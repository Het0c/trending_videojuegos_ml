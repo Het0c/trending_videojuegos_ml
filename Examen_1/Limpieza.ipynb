{
 "cells": [
  {
   "cell_type": "markdown",
   "id": "9b8b8c87",
   "metadata": {},
   "source": [
    "# Este conjunto de datos combinado (\"merged dataset\") es parte del estudio de caso Bellabeat del proyecto Google Data Analytics Capstone. \n",
    "# Reúne y refina múltiples archivos CSV de datos brutos sobre el uso de dispositivos inteligentes, centrándose en patrones de actividad, sueño y frecuencia cardíaca de los usuarios."
   ]
  },
  {
   "cell_type": "code",
   "execution_count": null,
   "id": "965410b0",
   "metadata": {
    "vscode": {
     "languageId": "markdown"
    }
   },
   "outputs": [],
   "source": []
  },
  {
   "cell_type": "code",
   "execution_count": null,
   "id": "642c9aea",
   "metadata": {
    "vscode": {
     "languageId": "markdown"
    }
   },
   "outputs": [],
   "source": [
    "El conjunto de datos incluye:\n",
    "\n",
    "- Métricas diarias de actividad (pasos, calorías)\n",
    "- Datos de seguimiento del sueño (minutos totales dormidos)\n",
    "- Registros de frecuencia cardíaca (limpiados y emparejados por fecha)\n",
    "\n",
    "Todos los campos han sido estandarizados, combinados por Id y Fecha, y los valores nulos se manejaron inicialmente como \"Not-Given\" durante el procesamiento, luego revertidos para un análisis preciso. Se eliminaron registros duplicados y se unificaron los formatos de las columnas para facilitar su uso en herramientas como SQL, Python o R.\n"
   ]
  },
  {
   "cell_type": "markdown",
   "id": "6dfff76e",
   "metadata": {},
   "source": []
  },
  {
   "cell_type": "code",
   "execution_count": null,
   "id": "9ef9626a",
   "metadata": {
    "vscode": {
     "languageId": "markdown"
    }
   },
   "outputs": [],
   "source": []
  }
 ],
 "metadata": {
  "language_info": {
   "name": "python"
  }
 },
 "nbformat": 4,
 "nbformat_minor": 5
}
