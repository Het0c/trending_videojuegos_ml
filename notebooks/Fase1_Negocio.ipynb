{
 "cells": [
  {
   "cell_type": "markdown",
   "id": "0f14145f",
   "metadata": {},
   "source": [
    "![alt text](Untitled.png)"
   ]
  },
  {
   "cell_type": "markdown",
   "id": "b2dd5150",
   "metadata": {},
   "source": [
    "Analisis de Dataset Gaming Trending 2024 | Informe inicial de analisis"
   ]
  },
  {
   "cell_type": "markdown",
   "id": "4ef53677",
   "metadata": {},
   "source": [
    "Integrantes:\n",
    "\n",
    "* Héctor López\n",
    "* Bárbara Álveal\n",
    "\n",
    "Docente:    * Giocrisrai Godoy"
   ]
  },
  {
   "cell_type": "markdown",
   "id": "4239a32b",
   "metadata": {},
   "source": [
    "La industria de los videojuegos no es solo entretenimiento: es un motor cultural que refleja innovación, creatividad y comunidad.\n",
    "Las “tendencias de gaming” abarcan la evolución de plataformas, géneros, comportamiento de jugadores y economía del sector. Hoy el ecosistema compite entre consolas, PC y mobile; las consolas apuestan por exclusivas, el PC lidera en competitivo/modding y el móvil democratiza el acceso.\n",
    "\n",
    "El cloud gaming difumina fronteras. Géneros clásicos (Acción, Aventura, RPG) conviven con nichos en auge (Simulación, Supervivencia, indies) y subgéneros (souls-like, roguelike). Las calificaciones y reseñas de usuarios son “moneda” que guía a los desarrolladores hacia modelos live-service y actualizaciones iterativas. Las regiones imprimen estilos distintos (Asia móvil/esports; Norteamérica AAA; Europa indies), y coexisten el músculo de los AAA con la creatividad coste-eficiente de los indies, mientras microtransacciones y pases de temporada sostienen ingresos.\n",
    "Tecnologías inmersivas (VR/AR/háptica) y el potencial del “metaverso” asoman, y el streaming/esports convierten al juego en espectáculo global. Estas tendencias importan porque moldean comunidades, impulsan innovación y posicionan al gaming a la vanguardia del entretenimiento digital.\n"
   ]
  },
  {
   "cell_type": "markdown",
   "id": "debf32b2",
   "metadata": {},
   "source": [
    "  ### Target Principal: Revenue (Regresión)\n",
    "   - **Objetivo**: Predecir ingresos futuros de videojuegos\n",
    "   - **Justificación de Negocio**: Permite optimizar inversiones en desarrollo\n",
    "   - **Viabilidad**: Tenemos datos históricos de revenue y features relevantes\n",
    "   \n",
    "   ### Target Secundario: Categoría de Éxito (Clasificación)\n",
    "   - **Objetivo**: Clasificar juegos en High/Medium/Low success\n",
    "   - **Justificación**: Ayuda en decisiones de marketing temprano\n",
    "   - **Viabilidad**: Podemos derivar categorías de revenue y engagement"
   ]
  },
  {
   "cell_type": "markdown",
   "id": "f7ba8c7f",
   "metadata": {},
   "source": [
    "# Datos en el Dataset\n",
    "\n",
    "**Date**:   fecha de lanzamiento del juego.\n",
    "\n",
    "**Platform**:   plataforma (PC, Consola, Móvil, VR).\n",
    "\n",
    "**Daily Active Users (DAU)**:   usuarios activos diarios.\n",
    "\n",
    "**New Registrations**:  nuevos registros.\n",
    "\n",
    "**Session Duration (min)**:     duración promedio por sesión.\n",
    "\n",
    "**In-game Purchases ($)**:  ingresos por transacciones dentro del juego.\n",
    "\n",
    "**Social Media Mentions**:  menciones en redes sociales.\n",
    "\n",
    "**Stream Viewership**:  audiencia en plataformas de streaming en vivo.\n",
    "\n",
    "**Revenue ($)**:    ingresos totales (ventas, in-game, suscripciones).\n",
    "\n",
    "**Top Genre**:  género principal (Acción, RPG, Estrategia, Simulación, etc.).\n",
    "\n",
    "**Influencer Endorsements**:     0/1 si hubo promoción por influencers."
   ]
  }
 ],
 "metadata": {
  "language_info": {
   "name": "python"
  }
 },
 "nbformat": 4,
 "nbformat_minor": 5
}
