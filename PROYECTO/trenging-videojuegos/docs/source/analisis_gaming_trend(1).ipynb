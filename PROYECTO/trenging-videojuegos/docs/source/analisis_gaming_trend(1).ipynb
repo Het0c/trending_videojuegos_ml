{
  "cells": [
    {
      "cell_type": "markdown",
      "id": "51dcda84",
      "metadata": {
        "id": "51dcda84"
      },
      "source": [
        "![alt text](Untitled.png)"
      ]
    },
    {
      "cell_type": "markdown",
      "id": "d247e307",
      "metadata": {
        "id": "d247e307"
      },
      "source": [
        "Analisis de Dataset Gaming Trending 2024 | Informe inicial de analisis"
      ]
    },
    {
      "cell_type": "markdown",
      "id": "be6fc143",
      "metadata": {
        "id": "be6fc143"
      },
      "source": [
        "Integrantes:\n",
        "\n",
        "* Héctor López\n",
        "* Bárbara Álveal\n",
        "\n",
        "Docente:    * Giocrisrai Godoy"
      ]
    },
    {
      "cell_type": "markdown",
      "id": "e11a0ecb",
      "metadata": {
        "id": "e11a0ecb"
      },
      "source": [
        "La industria de los videojuegos no es solo entretenimiento: es un motor cultural que refleja innovación, creatividad y comunidad.\n",
        "Las “tendencias de gaming” abarcan la evolución de plataformas, géneros, comportamiento de jugadores y economía del sector. Hoy el ecosistema compite entre consolas, PC y mobile; las consolas apuestan por exclusivas, el PC lidera en competitivo/modding y el móvil democratiza el acceso.\n",
        "\n",
        "El cloud gaming difumina fronteras. Géneros clásicos (Acción, Aventura, RPG) conviven con nichos en auge (Simulación, Supervivencia, indies) y subgéneros (souls-like, roguelike). Las calificaciones y reseñas de usuarios son “moneda” que guía a los desarrolladores hacia modelos live-service y actualizaciones iterativas. Las regiones imprimen estilos distintos (Asia móvil/esports; Norteamérica AAA; Europa indies), y coexisten el músculo de los AAA con la creatividad coste-eficiente de los indies, mientras microtransacciones y pases de temporada sostienen ingresos.\n",
        "Tecnologías inmersivas (VR/AR/háptica) y el potencial del “metaverso” asoman, y el streaming/esports convierten al juego en espectáculo global. Estas tendencias importan porque moldean comunidades, impulsan innovación y posicionan al gaming a la vanguardia del entretenimiento digital.\n"
      ]
    },
    {
      "cell_type": "markdown",
      "id": "8a412ffe",
      "metadata": {
        "id": "8a412ffe"
      },
      "source": [
        "# Datos en el Dataset\n",
        "\n",
        "**Date**:   fecha de lanzamiento del juego.\n",
        "\n",
        "**Platform**:   plataforma (PC, Consola, Móvil, VR).\n",
        "\n",
        "**Daily Active Users (DAU)**:   usuarios activos diarios.\n",
        "\n",
        "**New Registrations**:  nuevos registros.\n",
        "\n",
        "**Session Duration (min)**:     duración promedio por sesión.\n",
        "\n",
        "**In-game Purchases ($)**:  ingresos por transacciones dentro del juego.\n",
        "\n",
        "**Social Media Mentions**:  menciones en redes sociales.\n",
        "\n",
        "**Stream Viewership**:  audiencia en plataformas de streaming en vivo.\n",
        "\n",
        "**Revenue ($)**:    ingresos totales (ventas, in-game, suscripciones).\n",
        "\n",
        "**Top Genre**:  género principal (Acción, RPG, Estrategia, Simulación, etc.).\n",
        "\n",
        "**Influencer Endorsements**:     0/1 si hubo promoción por influencers."
      ]
    },
    {
      "cell_type": "markdown",
      "id": "821c6f0a",
      "metadata": {
        "id": "821c6f0a"
      },
      "source": [
        "# Fase 1: analisis del dataset"
      ]
    },
    {
      "cell_type": "code",
      "execution_count": 25,
      "id": "08f18223",
      "metadata": {
        "id": "08f18223"
      },
      "outputs": [],
      "source": [
        "#Importación de librerías\n",
        "import pandas as pd\n",
        "import numpy as np\n",
        "import matplotlib.pyplot as plt\n",
        "import seaborn as sns\n",
        "import os\n",
        "import datetime\n",
        "from sklearn.linear_model import LinearRegression\n",
        "from sklearn.model_selection import train_test_split\n",
        "from sklearn.linear_model import LinearRegression, LogisticRegression\n",
        "from sklearn.preprocessing import StandardScaler, MinMaxScaler"
      ]
    },
    {
      "cell_type": "code",
      "execution_count": 26,
      "id": "8f8804fd",
      "metadata": {
        "colab": {
          "base_uri": "https://localhost:8080/",
          "height": 313
        },
        "id": "8f8804fd",
        "outputId": "1e9646d8-b5a6-49c8-aef4-a4a74f15ad09"
      },
      "outputs": [
        {
          "name": "stdout",
          "output_type": "stream",
          "text": [
            "Shape: (4989, 11)\n",
            "Columnas: ['Date', 'Platform', 'Daily Active Users (DAU)', 'New Registrations', 'Session Duration (minutes)', 'In-game Purchases ($)', 'Social Media Mentions', 'Stream Viewership', 'Revenue', 'Top Genre', 'Influencer Endorsements']\n"
          ]
        },
        {
          "data": {
            "text/html": [
              "<div>\n",
              "<style scoped>\n",
              "    .dataframe tbody tr th:only-of-type {\n",
              "        vertical-align: middle;\n",
              "    }\n",
              "\n",
              "    .dataframe tbody tr th {\n",
              "        vertical-align: top;\n",
              "    }\n",
              "\n",
              "    .dataframe thead th {\n",
              "        text-align: right;\n",
              "    }\n",
              "</style>\n",
              "<table border=\"1\" class=\"dataframe\">\n",
              "  <thead>\n",
              "    <tr style=\"text-align: right;\">\n",
              "      <th></th>\n",
              "      <th>Date</th>\n",
              "      <th>Platform</th>\n",
              "      <th>Daily Active Users (DAU)</th>\n",
              "      <th>New Registrations</th>\n",
              "      <th>Session Duration (minutes)</th>\n",
              "      <th>In-game Purchases ($)</th>\n",
              "      <th>Social Media Mentions</th>\n",
              "      <th>Stream Viewership</th>\n",
              "      <th>Revenue</th>\n",
              "      <th>Top Genre</th>\n",
              "      <th>Influencer Endorsements</th>\n",
              "    </tr>\n",
              "  </thead>\n",
              "  <tbody>\n",
              "    <tr>\n",
              "      <th>0</th>\n",
              "      <td>2022-04-13</td>\n",
              "      <td>PC</td>\n",
              "      <td>142204</td>\n",
              "      <td>14220</td>\n",
              "      <td>31.266635</td>\n",
              "      <td>60772.724060</td>\n",
              "      <td>7116</td>\n",
              "      <td>85079.542766</td>\n",
              "      <td>87378.407590</td>\n",
              "      <td>Action</td>\n",
              "      <td>0</td>\n",
              "    </tr>\n",
              "    <tr>\n",
              "      <th>1</th>\n",
              "      <td>2021-03-17</td>\n",
              "      <td>PC</td>\n",
              "      <td>132314</td>\n",
              "      <td>13231</td>\n",
              "      <td>23.314436</td>\n",
              "      <td>43499.834450</td>\n",
              "      <td>6582</td>\n",
              "      <td>64188.420576</td>\n",
              "      <td>41132.113751</td>\n",
              "      <td>Action</td>\n",
              "      <td>0</td>\n",
              "    </tr>\n",
              "    <tr>\n",
              "      <th>2</th>\n",
              "      <td>2019-03-09</td>\n",
              "      <td>VR</td>\n",
              "      <td>111557</td>\n",
              "      <td>11155</td>\n",
              "      <td>33.859334</td>\n",
              "      <td>52178.791314</td>\n",
              "      <td>5572</td>\n",
              "      <td>34385.665788</td>\n",
              "      <td>71787.342041</td>\n",
              "      <td>Simulation</td>\n",
              "      <td>0</td>\n",
              "    </tr>\n",
              "    <tr>\n",
              "      <th>3</th>\n",
              "      <td>2021-03-31</td>\n",
              "      <td>Console</td>\n",
              "      <td>132909</td>\n",
              "      <td>13290</td>\n",
              "      <td>80.580010</td>\n",
              "      <td>25085.562444</td>\n",
              "      <td>6619</td>\n",
              "      <td>43129.915707</td>\n",
              "      <td>18639.641156</td>\n",
              "      <td>RPG</td>\n",
              "      <td>0</td>\n",
              "    </tr>\n",
              "    <tr>\n",
              "      <th>4</th>\n",
              "      <td>2021-02-04</td>\n",
              "      <td>Mobile</td>\n",
              "      <td>130694</td>\n",
              "      <td>13069</td>\n",
              "      <td>37.270903</td>\n",
              "      <td>55277.074439</td>\n",
              "      <td>6555</td>\n",
              "      <td>69341.389827</td>\n",
              "      <td>63849.959750</td>\n",
              "      <td>Action</td>\n",
              "      <td>0</td>\n",
              "    </tr>\n",
              "  </tbody>\n",
              "</table>\n",
              "</div>"
            ],
            "text/plain": [
              "         Date Platform  Daily Active Users (DAU)  New Registrations  \\\n",
              "0  2022-04-13       PC                    142204              14220   \n",
              "1  2021-03-17       PC                    132314              13231   \n",
              "2  2019-03-09       VR                    111557              11155   \n",
              "3  2021-03-31  Console                    132909              13290   \n",
              "4  2021-02-04   Mobile                    130694              13069   \n",
              "\n",
              "   Session Duration (minutes)  In-game Purchases ($)  Social Media Mentions  \\\n",
              "0                   31.266635           60772.724060                   7116   \n",
              "1                   23.314436           43499.834450                   6582   \n",
              "2                   33.859334           52178.791314                   5572   \n",
              "3                   80.580010           25085.562444                   6619   \n",
              "4                   37.270903           55277.074439                   6555   \n",
              "\n",
              "   Stream Viewership       Revenue   Top Genre  Influencer Endorsements  \n",
              "0       85079.542766  87378.407590      Action                        0  \n",
              "1       64188.420576  41132.113751      Action                        0  \n",
              "2       34385.665788  71787.342041  Simulation                        0  \n",
              "3       43129.915707  18639.641156         RPG                        0  \n",
              "4       69341.389827  63849.959750      Action                        0  "
            ]
          },
          "execution_count": 26,
          "metadata": {},
          "output_type": "execute_result"
        }
      ],
      "source": [
        "# Carga del dataset (asegúrate de tener el CSV en la misma carpeta que este notebook)\n",
        "csv_path = \"gaming.csv\"\n",
        "assert os.path.exists(csv_path), \"No se encontró el archivo Gaming-Trends-2024.csv en el directorio actual.\"\n",
        "\n",
        "df = pd.read_csv(csv_path)\n",
        "print(\"Shape:\", df.shape)\n",
        "print(\"Columnas:\", list(df.columns))\n",
        "df.head()\n",
        "\n"
      ]
    },
    {
      "cell_type": "code",
      "execution_count": 27,
      "id": "6d864181",
      "metadata": {
        "colab": {
          "base_uri": "https://localhost:8080/",
          "height": 824
        },
        "id": "6d864181",
        "outputId": "cb666e77-1567-4a1e-9e11-151e6d852ef4"
      },
      "outputs": [
        {
          "data": {
            "text/plain": [
              "Date                           object\n",
              "Platform                       object\n",
              "Daily Active Users (DAU)        int64\n",
              "New Registrations               int64\n",
              "Session Duration (minutes)    float64\n",
              "In-game Purchases ($)         float64\n",
              "Social Media Mentions           int64\n",
              "Stream Viewership             float64\n",
              "Revenue                       float64\n",
              "Top Genre                      object\n",
              "Influencer Endorsements         int64\n",
              "dtype: object"
            ]
          },
          "metadata": {},
          "output_type": "display_data"
        },
        {
          "data": {
            "text/html": [
              "<div>\n",
              "<style scoped>\n",
              "    .dataframe tbody tr th:only-of-type {\n",
              "        vertical-align: middle;\n",
              "    }\n",
              "\n",
              "    .dataframe tbody tr th {\n",
              "        vertical-align: top;\n",
              "    }\n",
              "\n",
              "    .dataframe thead th {\n",
              "        text-align: right;\n",
              "    }\n",
              "</style>\n",
              "<table border=\"1\" class=\"dataframe\">\n",
              "  <thead>\n",
              "    <tr style=\"text-align: right;\">\n",
              "      <th></th>\n",
              "      <th>missing</th>\n",
              "    </tr>\n",
              "  </thead>\n",
              "  <tbody>\n",
              "    <tr>\n",
              "      <th>Date</th>\n",
              "      <td>0</td>\n",
              "    </tr>\n",
              "    <tr>\n",
              "      <th>Platform</th>\n",
              "      <td>0</td>\n",
              "    </tr>\n",
              "    <tr>\n",
              "      <th>Daily Active Users (DAU)</th>\n",
              "      <td>0</td>\n",
              "    </tr>\n",
              "    <tr>\n",
              "      <th>New Registrations</th>\n",
              "      <td>0</td>\n",
              "    </tr>\n",
              "    <tr>\n",
              "      <th>Session Duration (minutes)</th>\n",
              "      <td>0</td>\n",
              "    </tr>\n",
              "    <tr>\n",
              "      <th>In-game Purchases ($)</th>\n",
              "      <td>0</td>\n",
              "    </tr>\n",
              "    <tr>\n",
              "      <th>Social Media Mentions</th>\n",
              "      <td>0</td>\n",
              "    </tr>\n",
              "    <tr>\n",
              "      <th>Stream Viewership</th>\n",
              "      <td>0</td>\n",
              "    </tr>\n",
              "    <tr>\n",
              "      <th>Revenue</th>\n",
              "      <td>0</td>\n",
              "    </tr>\n",
              "    <tr>\n",
              "      <th>Top Genre</th>\n",
              "      <td>0</td>\n",
              "    </tr>\n",
              "    <tr>\n",
              "      <th>Influencer Endorsements</th>\n",
              "      <td>0</td>\n",
              "    </tr>\n",
              "  </tbody>\n",
              "</table>\n",
              "</div>"
            ],
            "text/plain": [
              "                            missing\n",
              "Date                              0\n",
              "Platform                          0\n",
              "Daily Active Users (DAU)          0\n",
              "New Registrations                 0\n",
              "Session Duration (minutes)        0\n",
              "In-game Purchases ($)             0\n",
              "Social Media Mentions             0\n",
              "Stream Viewership                 0\n",
              "Revenue                           0\n",
              "Top Genre                         0\n",
              "Influencer Endorsements           0"
            ]
          },
          "metadata": {},
          "output_type": "display_data"
        },
        {
          "name": "stdout",
          "output_type": "stream",
          "text": [
            "Duplicados: 0\n"
          ]
        }
      ],
      "source": [
        "# Tipos y valores faltantes\n",
        "display(df.dtypes)\n",
        "na_counts = df.isna().sum().sort_values(ascending=False)\n",
        "display(na_counts.to_frame(name=\"missing\"))\n",
        "\n",
        "# Duplicados\n",
        "print(\"Duplicados:\", df.duplicated().sum())"
      ]
    },
    {
      "cell_type": "code",
      "execution_count": 28,
      "id": "59a16b08",
      "metadata": {
        "id": "59a16b08"
      },
      "outputs": [],
      "source": [
        "def find_col(df, key_candidates):\n",
        "    # Try to find a column in df whose lowercased name contains ALL tokens in any candidate string.\n",
        "    # Returns the best match or raises ValueError if not found.\n",
        "    cols = list(df.columns)\n",
        "    lower = [c.lower() for c in cols]\n",
        "    scores = []\n",
        "    for cand in key_candidates:\n",
        "        tokens = [t.strip() for t in cand.lower().replace(\"(\", \" \").replace(\")\", \" \").replace(\"$\",\" \").split() if t.strip()]\n",
        "        for i, lc in enumerate(lower):\n",
        "            if all(tok in lc for tok in tokens):\n",
        "                scores.append((i, cols[i], len(tokens)))\n",
        "                print(f\"find_col: candidate '{cand}' matches column '{cols[i]}'\")\n",
        "    if not scores:\n",
        "        raise ValueError(f\"No se encontró ninguna columna para {key_candidates}\")\n",
        "    # prefer the match with more tokens (more specific)\n",
        "    scores.sort(key=lambda x: (-x[2], x[0]))\n",
        "    return scores[0][1]"
      ]
    },
    {
      "cell_type": "code",
      "execution_count": 29,
      "id": "b6b28440",
      "metadata": {
        "colab": {
          "base_uri": "https://localhost:8080/",
          "height": 204
        },
        "id": "b6b28440",
        "outputId": "001125bb-aaf0-4d70-9590-a034bf8f9332"
      },
      "outputs": [
        {
          "name": "stdout",
          "output_type": "stream",
          "text": [
            "find_col: candidate 'date' matches column 'Date'\n"
          ]
        },
        {
          "data": {
            "text/plain": [
              "<bound method NDFrame.describe of            Date Platform  Daily Active Users (DAU)  New Registrations  \\\n",
              "0    2022-04-13       PC                    142204              14220   \n",
              "1    2021-03-17       PC                    132314              13231   \n",
              "2    2019-03-09       VR                    111557              11155   \n",
              "3    2021-03-31  Console                    132909              13290   \n",
              "4    2021-02-04   Mobile                    130694              13069   \n",
              "...         ...      ...                       ...                ...   \n",
              "4984 2020-11-28       VR                    129812              12981   \n",
              "4985 2020-11-29       VR                    143326              14332   \n",
              "4986 2020-11-30   Mobile                     37056               3705   \n",
              "4987 2020-12-01  Console                     65306               6530   \n",
              "4988 2020-12-02  Console                     68245               6824   \n",
              "\n",
              "      Session Duration (minutes)  In-game Purchases ($)  \\\n",
              "0                      31.266635           60772.724060   \n",
              "1                      23.314436           43499.834450   \n",
              "2                      33.859334           52178.791314   \n",
              "3                      80.580010           25085.562444   \n",
              "4                      37.270903           55277.074439   \n",
              "...                          ...                    ...   \n",
              "4984                   21.665522           89255.466697   \n",
              "4985                   79.158413           94773.819233   \n",
              "4986                   38.886782           96692.331823   \n",
              "4987                   25.189762           66163.588432   \n",
              "4988                   79.706240           56589.007218   \n",
              "\n",
              "      Social Media Mentions  Stream Viewership        Revenue   Top Genre  \\\n",
              "0                      7116       85079.542766   87378.407590      Action   \n",
              "1                      6582       64188.420576   41132.113751      Action   \n",
              "2                      5572       34385.665788   71787.342041  Simulation   \n",
              "3                      6619       43129.915707   18639.641156         RPG   \n",
              "4                      6555       69341.389827   63849.959750      Action   \n",
              "...                     ...                ...            ...         ...   \n",
              "4984                   2756       22293.209826  149864.021675         RPG   \n",
              "4985                   8878       97013.445923   50820.429947         RPG   \n",
              "4986                   7357       80238.163032   58049.318759   Adventure   \n",
              "4987                   3399       56842.064818   97370.539505         FPS   \n",
              "4988                   9731       98136.493663   25840.133516      Action   \n",
              "\n",
              "      Influencer Endorsements  \n",
              "0                           0  \n",
              "1                           0  \n",
              "2                           0  \n",
              "3                           0  \n",
              "4                           0  \n",
              "...                       ...  \n",
              "4984                        0  \n",
              "4985                        0  \n",
              "4986                        0  \n",
              "4987                        0  \n",
              "4988                        1  \n",
              "\n",
              "[4989 rows x 11 columns]>"
            ]
          },
          "execution_count": 29,
          "metadata": {},
          "output_type": "execute_result"
        }
      ],
      "source": [
        "# Normalizamos/parseamos la fecha\n",
        "try:\n",
        "    date_col = find_col(df, [\"date\", \"fecha\"])\n",
        "except Exception as e:\n",
        "    raise\n",
        "\n",
        "df[date_col] = pd.to_datetime(df[date_col], errors=\"coerce\")\n",
        "assert df[date_col].notna().any(), \"La columna de fecha no pudo parsearse. Revisa el formato.\"\n",
        "\n",
        "df.describe"
      ]
    },
    {
      "cell_type": "markdown",
      "id": "3917aab2",
      "metadata": {
        "id": "3917aab2"
      },
      "source": [
        "\n",
        "### Estadísticos descriptivos (tendencia central y dispersión)\n",
        "Incluye: media, mediana, moda, varianza, desviación estándar, rango, coeficiente de variación (CV), IQR, mínimos/máximos, suma y conteos.\n"
      ]
    },
    {
      "cell_type": "code",
      "execution_count": 30,
      "id": "21dfc0dd",
      "metadata": {
        "colab": {
          "base_uri": "https://localhost:8080/",
          "height": 459
        },
        "id": "21dfc0dd",
        "outputId": "2b718527-d298-4864-dbc5-0b5bd9658cb0"
      },
      "outputs": [
        {
          "data": {
            "text/html": [
              "<div>\n",
              "<style scoped>\n",
              "    .dataframe tbody tr th:only-of-type {\n",
              "        vertical-align: middle;\n",
              "    }\n",
              "\n",
              "    .dataframe tbody tr th {\n",
              "        vertical-align: top;\n",
              "    }\n",
              "\n",
              "    .dataframe thead th {\n",
              "        text-align: right;\n",
              "    }\n",
              "</style>\n",
              "<table border=\"1\" class=\"dataframe\">\n",
              "  <thead>\n",
              "    <tr style=\"text-align: right;\">\n",
              "      <th></th>\n",
              "      <th>count</th>\n",
              "      <th>sum</th>\n",
              "      <th>mean</th>\n",
              "      <th>median</th>\n",
              "      <th>mode</th>\n",
              "      <th>var</th>\n",
              "      <th>std</th>\n",
              "      <th>min</th>\n",
              "      <th>q1</th>\n",
              "      <th>q3</th>\n",
              "      <th>iqr</th>\n",
              "      <th>max</th>\n",
              "      <th>range</th>\n",
              "      <th>cv</th>\n",
              "    </tr>\n",
              "  </thead>\n",
              "  <tbody>\n",
              "    <tr>\n",
              "      <th>Daily Active Users (DAU)</th>\n",
              "      <td>4989</td>\n",
              "      <td>5.541345e+08</td>\n",
              "      <td>111071.253</td>\n",
              "      <td>117520.000</td>\n",
              "      <td>10090.000</td>\n",
              "      <td>2.685928e+09</td>\n",
              "      <td>51825.935</td>\n",
              "      <td>10009.000</td>\n",
              "      <td>67896.000</td>\n",
              "      <td>153186.000</td>\n",
              "      <td>85290.000</td>\n",
              "      <td>199907.000</td>\n",
              "      <td>189898.000</td>\n",
              "      <td>0.467</td>\n",
              "    </tr>\n",
              "    <tr>\n",
              "      <th>New Registrations</th>\n",
              "      <td>4989</td>\n",
              "      <td>5.541117e+07</td>\n",
              "      <td>11106.669</td>\n",
              "      <td>11752.000</td>\n",
              "      <td>10062.000</td>\n",
              "      <td>2.685925e+07</td>\n",
              "      <td>5182.591</td>\n",
              "      <td>1000.000</td>\n",
              "      <td>6789.000</td>\n",
              "      <td>15318.000</td>\n",
              "      <td>8529.000</td>\n",
              "      <td>19990.000</td>\n",
              "      <td>18990.000</td>\n",
              "      <td>0.467</td>\n",
              "    </tr>\n",
              "    <tr>\n",
              "      <th>Session Duration (minutes)</th>\n",
              "      <td>4989</td>\n",
              "      <td>2.911048e+05</td>\n",
              "      <td>58.349</td>\n",
              "      <td>56.503</td>\n",
              "      <td>8.236</td>\n",
              "      <td>4.763840e+02</td>\n",
              "      <td>21.826</td>\n",
              "      <td>8.236</td>\n",
              "      <td>40.586</td>\n",
              "      <td>75.941</td>\n",
              "      <td>35.355</td>\n",
              "      <td>99.997</td>\n",
              "      <td>91.761</td>\n",
              "      <td>0.374</td>\n",
              "    </tr>\n",
              "    <tr>\n",
              "      <th>In-game Purchases ($)</th>\n",
              "      <td>4989</td>\n",
              "      <td>2.598259e+08</td>\n",
              "      <td>52079.755</td>\n",
              "      <td>50127.675</td>\n",
              "      <td>10009.848</td>\n",
              "      <td>6.166147e+08</td>\n",
              "      <td>24831.728</td>\n",
              "      <td>10009.848</td>\n",
              "      <td>31312.561</td>\n",
              "      <td>72301.013</td>\n",
              "      <td>40988.452</td>\n",
              "      <td>99954.557</td>\n",
              "      <td>89944.709</td>\n",
              "      <td>0.477</td>\n",
              "    </tr>\n",
              "    <tr>\n",
              "      <th>Social Media Mentions</th>\n",
              "      <td>4989</td>\n",
              "      <td>2.857353e+07</td>\n",
              "      <td>5727.307</td>\n",
              "      <td>5927.000</td>\n",
              "      <td>7502.000</td>\n",
              "      <td>5.933026e+06</td>\n",
              "      <td>2435.780</td>\n",
              "      <td>1001.000</td>\n",
              "      <td>3797.000</td>\n",
              "      <td>7701.000</td>\n",
              "      <td>3904.000</td>\n",
              "      <td>9999.000</td>\n",
              "      <td>8998.000</td>\n",
              "      <td>0.425</td>\n",
              "    </tr>\n",
              "    <tr>\n",
              "      <th>Stream Viewership</th>\n",
              "      <td>4989</td>\n",
              "      <td>2.992870e+08</td>\n",
              "      <td>59989.378</td>\n",
              "      <td>59670.765</td>\n",
              "      <td>20012.245</td>\n",
              "      <td>5.238231e+08</td>\n",
              "      <td>22887.182</td>\n",
              "      <td>20012.245</td>\n",
              "      <td>40175.212</td>\n",
              "      <td>79328.228</td>\n",
              "      <td>39153.016</td>\n",
              "      <td>111958.553</td>\n",
              "      <td>91946.308</td>\n",
              "      <td>0.382</td>\n",
              "    </tr>\n",
              "    <tr>\n",
              "      <th>Revenue</th>\n",
              "      <td>4989</td>\n",
              "      <td>3.512846e+08</td>\n",
              "      <td>70411.817</td>\n",
              "      <td>64279.960</td>\n",
              "      <td>5010.199</td>\n",
              "      <td>1.763680e+09</td>\n",
              "      <td>41996.192</td>\n",
              "      <td>5010.199</td>\n",
              "      <td>33134.929</td>\n",
              "      <td>106563.118</td>\n",
              "      <td>73428.189</td>\n",
              "      <td>149993.898</td>\n",
              "      <td>144983.699</td>\n",
              "      <td>0.596</td>\n",
              "    </tr>\n",
              "    <tr>\n",
              "      <th>Influencer Endorsements</th>\n",
              "      <td>4989</td>\n",
              "      <td>2.243000e+03</td>\n",
              "      <td>0.450</td>\n",
              "      <td>0.000</td>\n",
              "      <td>0.000</td>\n",
              "      <td>3.680000e-01</td>\n",
              "      <td>0.606</td>\n",
              "      <td>0.000</td>\n",
              "      <td>0.000</td>\n",
              "      <td>1.000</td>\n",
              "      <td>1.000</td>\n",
              "      <td>7.000</td>\n",
              "      <td>7.000</td>\n",
              "      <td>1.349</td>\n",
              "    </tr>\n",
              "  </tbody>\n",
              "</table>\n",
              "</div>"
            ],
            "text/plain": [
              "                            count           sum        mean      median  \\\n",
              "Daily Active Users (DAU)     4989  5.541345e+08  111071.253  117520.000   \n",
              "New Registrations            4989  5.541117e+07   11106.669   11752.000   \n",
              "Session Duration (minutes)   4989  2.911048e+05      58.349      56.503   \n",
              "In-game Purchases ($)        4989  2.598259e+08   52079.755   50127.675   \n",
              "Social Media Mentions        4989  2.857353e+07    5727.307    5927.000   \n",
              "Stream Viewership            4989  2.992870e+08   59989.378   59670.765   \n",
              "Revenue                      4989  3.512846e+08   70411.817   64279.960   \n",
              "Influencer Endorsements      4989  2.243000e+03       0.450       0.000   \n",
              "\n",
              "                                 mode           var        std        min  \\\n",
              "Daily Active Users (DAU)    10090.000  2.685928e+09  51825.935  10009.000   \n",
              "New Registrations           10062.000  2.685925e+07   5182.591   1000.000   \n",
              "Session Duration (minutes)      8.236  4.763840e+02     21.826      8.236   \n",
              "In-game Purchases ($)       10009.848  6.166147e+08  24831.728  10009.848   \n",
              "Social Media Mentions        7502.000  5.933026e+06   2435.780   1001.000   \n",
              "Stream Viewership           20012.245  5.238231e+08  22887.182  20012.245   \n",
              "Revenue                      5010.199  1.763680e+09  41996.192   5010.199   \n",
              "Influencer Endorsements         0.000  3.680000e-01      0.606      0.000   \n",
              "\n",
              "                                   q1          q3        iqr         max  \\\n",
              "Daily Active Users (DAU)    67896.000  153186.000  85290.000  199907.000   \n",
              "New Registrations            6789.000   15318.000   8529.000   19990.000   \n",
              "Session Duration (minutes)     40.586      75.941     35.355      99.997   \n",
              "In-game Purchases ($)       31312.561   72301.013  40988.452   99954.557   \n",
              "Social Media Mentions        3797.000    7701.000   3904.000    9999.000   \n",
              "Stream Viewership           40175.212   79328.228  39153.016  111958.553   \n",
              "Revenue                     33134.929  106563.118  73428.189  149993.898   \n",
              "Influencer Endorsements         0.000       1.000      1.000       7.000   \n",
              "\n",
              "                                 range     cv  \n",
              "Daily Active Users (DAU)    189898.000  0.467  \n",
              "New Registrations            18990.000  0.467  \n",
              "Session Duration (minutes)      91.761  0.374  \n",
              "In-game Purchases ($)        89944.709  0.477  \n",
              "Social Media Mentions         8998.000  0.425  \n",
              "Stream Viewership            91946.308  0.382  \n",
              "Revenue                     144983.699  0.596  \n",
              "Influencer Endorsements          7.000  1.349  "
            ]
          },
          "metadata": {},
          "output_type": "display_data"
        }
      ],
      "source": [
        "def tabla_descriptiva(d): # función para generar tabla descriptiva\n",
        "    num = d.select_dtypes(include=[np.number]).copy() # seleccionar solo columnas numéricas\n",
        "    summary = pd.DataFrame(index=num.columns) # crear DataFrame vacío con índices como nombres de columnas numéricas\n",
        "    # Cálculo de estadísticas\n",
        "    summary[\"count\"] = num.count()\n",
        "    summary[\"sum\"] = num.sum()\n",
        "    summary[\"mean\"] = num.mean()\n",
        "    summary[\"median\"] = num.median()\n",
        "    summary[\"mode\"] = num.mode().iloc[0] if not num.mode().empty else np.nan\n",
        "    summary[\"var\"] = num.var(ddof=1)\n",
        "    summary[\"std\"] = num.std(ddof=1)\n",
        "    summary[\"min\"] = num.min()\n",
        "    summary[\"q1\"] = num.quantile(0.25)\n",
        "    summary[\"q3\"] = num.quantile(0.75)\n",
        "    summary[\"iqr\"] = summary[\"q3\"] - summary[\"q1\"]\n",
        "    summary[\"max\"] = num.max()\n",
        "    summary[\"range\"] = summary[\"max\"] - summary[\"min\"]\n",
        "    summary[\"cv\"] = summary[\"std\"] / summary[\"mean\"]\n",
        "    return summary\n",
        "\n",
        "desc = tabla_descriptiva(df)\n",
        "display(desc.round(3))\n"
      ]
    },
    {
      "cell_type": "markdown",
      "id": "3JeCYSFQZjiL",
      "metadata": {
        "id": "3JeCYSFQZjiL"
      },
      "source": [
        "## 3) **Preparación de los Datos (Data Preparation)**\n",
        "**Objetivos:** imputación de faltantes, tratamiento de outliers, creación de variables y escalamiento."
      ]
    },
    {
      "cell_type": "code",
      "execution_count": 31,
      "id": "z1g-6Ev7Ztfj",
      "metadata": {
        "colab": {
          "base_uri": "https://localhost:8080/",
          "height": 365
        },
        "id": "z1g-6Ev7Ztfj",
        "outputId": "25eb2120-72cb-4146-eb1f-680230eed036"
      },
      "outputs": [
        {
          "name": "stdout",
          "output_type": "stream",
          "text": [
            "find_col: candidate 'daily active users' matches column 'Daily Active Users (DAU)'\n",
            "find_col: candidate 'dau' matches column 'Daily Active Users (DAU)'\n",
            "find_col: candidate 'revenue' matches column 'Revenue'\n",
            "find_col: candidate 'date' matches column 'Date'\n",
            "Shape df_model: (4989, 17)\n"
          ]
        },
        {
          "data": {
            "text/html": [
              "<div>\n",
              "<style scoped>\n",
              "    .dataframe tbody tr th:only-of-type {\n",
              "        vertical-align: middle;\n",
              "    }\n",
              "\n",
              "    .dataframe tbody tr th {\n",
              "        vertical-align: top;\n",
              "    }\n",
              "\n",
              "    .dataframe thead th {\n",
              "        text-align: right;\n",
              "    }\n",
              "</style>\n",
              "<table border=\"1\" class=\"dataframe\">\n",
              "  <thead>\n",
              "    <tr style=\"text-align: right;\">\n",
              "      <th></th>\n",
              "      <th>Date</th>\n",
              "      <th>Daily Active Users (DAU)</th>\n",
              "      <th>New Registrations</th>\n",
              "      <th>Session Duration (minutes)</th>\n",
              "      <th>In-game Purchases ($)</th>\n",
              "      <th>Social Media Mentions</th>\n",
              "      <th>Stream Viewership</th>\n",
              "      <th>Revenue</th>\n",
              "      <th>Influencer Endorsements</th>\n",
              "      <th>ARPU</th>\n",
              "      <th>Platform_Mobile</th>\n",
              "      <th>Platform_PC</th>\n",
              "      <th>Platform_VR</th>\n",
              "      <th>Top Genre_Adventure</th>\n",
              "      <th>Top Genre_FPS</th>\n",
              "      <th>Top Genre_RPG</th>\n",
              "      <th>Top Genre_Simulation</th>\n",
              "    </tr>\n",
              "  </thead>\n",
              "  <tbody>\n",
              "    <tr>\n",
              "      <th>0</th>\n",
              "      <td>2022-04-13</td>\n",
              "      <td>142204.0</td>\n",
              "      <td>14220.0</td>\n",
              "      <td>31.266635</td>\n",
              "      <td>60772.724060</td>\n",
              "      <td>7116.0</td>\n",
              "      <td>85079.542766</td>\n",
              "      <td>87378.407590</td>\n",
              "      <td>0</td>\n",
              "      <td>0.614458</td>\n",
              "      <td>False</td>\n",
              "      <td>True</td>\n",
              "      <td>False</td>\n",
              "      <td>False</td>\n",
              "      <td>False</td>\n",
              "      <td>False</td>\n",
              "      <td>False</td>\n",
              "    </tr>\n",
              "    <tr>\n",
              "      <th>1</th>\n",
              "      <td>2021-03-17</td>\n",
              "      <td>132314.0</td>\n",
              "      <td>13231.0</td>\n",
              "      <td>23.314436</td>\n",
              "      <td>43499.834450</td>\n",
              "      <td>6582.0</td>\n",
              "      <td>64188.420576</td>\n",
              "      <td>41132.113751</td>\n",
              "      <td>0</td>\n",
              "      <td>0.310867</td>\n",
              "      <td>False</td>\n",
              "      <td>True</td>\n",
              "      <td>False</td>\n",
              "      <td>False</td>\n",
              "      <td>False</td>\n",
              "      <td>False</td>\n",
              "      <td>False</td>\n",
              "    </tr>\n",
              "    <tr>\n",
              "      <th>2</th>\n",
              "      <td>2019-03-09</td>\n",
              "      <td>111557.0</td>\n",
              "      <td>11155.0</td>\n",
              "      <td>33.859334</td>\n",
              "      <td>52178.791314</td>\n",
              "      <td>5572.0</td>\n",
              "      <td>34385.665788</td>\n",
              "      <td>71787.342041</td>\n",
              "      <td>0</td>\n",
              "      <td>0.643504</td>\n",
              "      <td>False</td>\n",
              "      <td>False</td>\n",
              "      <td>True</td>\n",
              "      <td>False</td>\n",
              "      <td>False</td>\n",
              "      <td>False</td>\n",
              "      <td>True</td>\n",
              "    </tr>\n",
              "    <tr>\n",
              "      <th>3</th>\n",
              "      <td>2021-03-31</td>\n",
              "      <td>132909.0</td>\n",
              "      <td>13290.0</td>\n",
              "      <td>80.580010</td>\n",
              "      <td>25085.562444</td>\n",
              "      <td>6619.0</td>\n",
              "      <td>43129.915707</td>\n",
              "      <td>18639.641156</td>\n",
              "      <td>0</td>\n",
              "      <td>0.140244</td>\n",
              "      <td>False</td>\n",
              "      <td>False</td>\n",
              "      <td>False</td>\n",
              "      <td>False</td>\n",
              "      <td>False</td>\n",
              "      <td>True</td>\n",
              "      <td>False</td>\n",
              "    </tr>\n",
              "    <tr>\n",
              "      <th>4</th>\n",
              "      <td>2021-02-04</td>\n",
              "      <td>130694.0</td>\n",
              "      <td>13069.0</td>\n",
              "      <td>37.270903</td>\n",
              "      <td>55277.074439</td>\n",
              "      <td>6555.0</td>\n",
              "      <td>69341.389827</td>\n",
              "      <td>63849.959750</td>\n",
              "      <td>0</td>\n",
              "      <td>0.488545</td>\n",
              "      <td>True</td>\n",
              "      <td>False</td>\n",
              "      <td>False</td>\n",
              "      <td>False</td>\n",
              "      <td>False</td>\n",
              "      <td>False</td>\n",
              "      <td>False</td>\n",
              "    </tr>\n",
              "  </tbody>\n",
              "</table>\n",
              "</div>"
            ],
            "text/plain": [
              "        Date  Daily Active Users (DAU)  New Registrations  \\\n",
              "0 2022-04-13                  142204.0            14220.0   \n",
              "1 2021-03-17                  132314.0            13231.0   \n",
              "2 2019-03-09                  111557.0            11155.0   \n",
              "3 2021-03-31                  132909.0            13290.0   \n",
              "4 2021-02-04                  130694.0            13069.0   \n",
              "\n",
              "   Session Duration (minutes)  In-game Purchases ($)  Social Media Mentions  \\\n",
              "0                   31.266635           60772.724060                 7116.0   \n",
              "1                   23.314436           43499.834450                 6582.0   \n",
              "2                   33.859334           52178.791314                 5572.0   \n",
              "3                   80.580010           25085.562444                 6619.0   \n",
              "4                   37.270903           55277.074439                 6555.0   \n",
              "\n",
              "   Stream Viewership       Revenue  Influencer Endorsements      ARPU  \\\n",
              "0       85079.542766  87378.407590                        0  0.614458   \n",
              "1       64188.420576  41132.113751                        0  0.310867   \n",
              "2       34385.665788  71787.342041                        0  0.643504   \n",
              "3       43129.915707  18639.641156                        0  0.140244   \n",
              "4       69341.389827  63849.959750                        0  0.488545   \n",
              "\n",
              "   Platform_Mobile  Platform_PC  Platform_VR  Top Genre_Adventure  \\\n",
              "0            False         True        False                False   \n",
              "1            False         True        False                False   \n",
              "2            False        False         True                False   \n",
              "3            False        False        False                False   \n",
              "4             True        False        False                False   \n",
              "\n",
              "   Top Genre_FPS  Top Genre_RPG  Top Genre_Simulation  \n",
              "0          False          False                 False  \n",
              "1          False          False                 False  \n",
              "2          False          False                  True  \n",
              "3          False           True                 False  \n",
              "4          False          False                 False  "
            ]
          },
          "execution_count": 31,
          "metadata": {},
          "output_type": "execute_result"
        }
      ],
      "source": [
        "df_prep = df.copy()\n",
        "\n",
        "# Imputación simple\n",
        "for col in df_prep.columns:\n",
        "    if df_prep[col].dtype.kind in \"biufc\":\n",
        "        med = df_prep[col].median()\n",
        "        df_prep[col] = df_prep[col].fillna(med)\n",
        "    else:\n",
        "        mode_val = df_prep[col].mode().iloc[0] if not df_prep[col].mode().empty else \"Desconocido\"\n",
        "        df_prep[col] = df_prep[col].fillna(mode_val)\n",
        "\n",
        "# Clipping por percentiles para estabilizar extremos en numéricas\n",
        "num_cols = df_prep.select_dtypes(include=[np.number]).columns\n",
        "lower = df_prep[num_cols].quantile(0.01)\n",
        "upper = df_prep[num_cols].quantile(0.99)\n",
        "df_prep[num_cols] = df_prep[num_cols].clip(lower=lower, upper=upper, axis=1)\n",
        "\n",
        "# Métricas derivadas (si están disponibles)\n",
        "try:\n",
        "    dau_col = find_col(df_prep, [\"daily active users\", \"dau\"])\n",
        "    revenue_col = find_col(df_prep, [\"revenue\", \"ingresos\"])\n",
        "    df_prep[\"ARPU\"] = df_prep[revenue_col] / df_prep[dau_col].replace(0, np.nan)\n",
        "except Exception:\n",
        "    df_prep[\"ARPU\"] = np.nan\n",
        "\n",
        "# Variables categóricas A one-hot encoding\n",
        "cat_cols = df_prep.select_dtypes(include=[\"object\", \"category\"]).columns.tolist()\n",
        "# excluir columna de fecha en texto si existiera\n",
        "try:\n",
        "    maybe_date = find_col(df_prep, [\"date\",\"fecha\"])\n",
        "    cat_cols = [c for c in cat_cols if c != maybe_date]\n",
        "except Exception:\n",
        "    pass\n",
        "\n",
        "df_model = pd.get_dummies(df_prep, columns=cat_cols, drop_first=True)\n",
        "\n",
        "print(\"Shape df_model:\", df_model.shape)\n",
        "df_model.head()"
      ]
    },
    {
      "cell_type": "code",
      "execution_count": null,
      "id": "IcnI0q-WGTgY",
      "metadata": {
        "id": "IcnI0q-WGTgY"
      },
      "outputs": [],
      "source": []
    },
    {
      "cell_type": "code",
      "execution_count": 32,
      "id": "Dt7FD_aeaLEL",
      "metadata": {
        "colab": {
          "base_uri": "https://localhost:8080/",
          "height": 600
        },
        "id": "Dt7FD_aeaLEL",
        "outputId": "7b983ec8-e384-472e-cc4a-9826a526a70f"
      },
      "outputs": [
        {
          "name": "stderr",
          "output_type": "stream",
          "text": [
            "C:\\Users\\hlope\\AppData\\Local\\Temp\\ipykernel_24056\\801674627.py:7: FutureWarning: 'M' is deprecated and will be removed in a future version, please use 'ME' instead.\n",
            "  df_mensual = df.resample('M', on='Date')[df.select_dtypes(include=np.number).columns].mean().reset_index()\n"
          ]
        },
        {
          "data": {
            "image/png": "[encoded data removed]",
            "text/plain": [
              "<Figure size 1000x600 with 1 Axes>"
            ]
          },
          "metadata": {},
          "output_type": "display_data"
        }
      ],
      "source": [
        "col = 'Revenue'  # columna objetivo\n",
        "\n",
        "# Asegurar formato de fecha\n",
        "df[\"Date\"] = pd.to_datetime(df[\"Date\"])\n",
        "\n",
        "# Agrupar por mes y calcular la media solo en columnas numéricas\n",
        "df_mensual = df.resample('M', on='Date')[df.select_dtypes(include=np.number).columns].mean().reset_index()\n",
        "\n",
        "# Crear columna de días desde la primera fecha\n",
        "df_mensual[\"dias\"] = (df_mensual[\"Date\"] - df_mensual[\"Date\"].min()).dt.days\n",
        "\n",
        "# Variables\n",
        "X = df_mensual[[\"dias\"]]\n",
        "y = df_mensual[col]\n",
        "\n",
        "# Modelo\n",
        "modelo = LinearRegression()\n",
        "modelo.fit(X, y)\n",
        "df_mensual[\"prediccion\"] = modelo.predict(X)\n",
        "\n",
        "# Gráfico\n",
        "plt.figure(figsize=(10,6))\n",
        "plt.plot(df_mensual[\"Date\"], y, label=\"Datos reales\")\n",
        "plt.plot(df_mensual[\"Date\"], df_mensual[\"prediccion\"], label=\"Regresión lineal\", color=\"red\")\n",
        "plt.xlabel(\"Fecha\")\n",
        "plt.ylabel(col)\n",
        "plt.title(\"Regresión lineal mensual\")\n",
        "plt.legend()\n",
        "plt.grid(True)\n",
        "#plt.savefig('graficos_generados/regresion_mensual.png')\n",
        "plt.show()\n",
        "\n"
      ]
    },
    {
      "cell_type": "code",
      "execution_count": 33,
      "id": "ZX6DH8-EI3GY",
      "metadata": {
        "colab": {
          "base_uri": "https://localhost:8080/",
          "height": 564
        },
        "id": "ZX6DH8-EI3GY",
        "outputId": "441745a2-3c01-42bc-b7b1-dca99e53e6a3"
      },
      "outputs": [
        {
          "data": {
            "image/png": "[encoded data removed]",
            "text/plain": [
              "<Figure size 1000x600 with 1 Axes>"
            ]
          },
          "metadata": {},
          "output_type": "display_data"
        }
      ],
      "source": [
        "#cambio de columna objetivo\n",
        "col = 'New Registrations'  # columna objetivo\n",
        "\n",
        "# Histograma\n",
        "plt.figure(figsize=(10,6))\n",
        "sns.histplot(df[col], bins=30, kde=True, color='skyblue') # histograma con línea KDE\n",
        "plt.title('Histograma de ' + col)\n",
        "plt.xlabel(col)\n",
        "plt.ylabel('Frecuencia')\n",
        "#plt.savefig('graficos_generados/histograma registros.png')\n",
        "plt.show()"
      ]
    },
    {
      "cell_type": "code",
      "execution_count": 34,
      "id": "AOFDCJXVI9Ve",
      "metadata": {
        "colab": {
          "base_uri": "https://localhost:8080/",
          "height": 653
        },
        "id": "AOFDCJXVI9Ve",
        "outputId": "65b3e93d-7143-4c79-bbcf-7276f5a835c9"
      },
      "outputs": [
        {
          "name": "stderr",
          "output_type": "stream",
          "text": [
            "C:\\Users\\hlope\\AppData\\Local\\Temp\\ipykernel_24056\\4078560454.py:2: FutureWarning: 'Y' is deprecated and will be removed in a future version, please use 'YE' instead.\n",
            "  df_anual = df.resample('Y', on='Date').agg({col: list})\n",
            "C:\\Users\\hlope\\AppData\\Local\\Temp\\ipykernel_24056\\4078560454.py:6: MatplotlibDeprecationWarning: The 'labels' parameter of boxplot() has been renamed 'tick_labels' since Matplotlib 3.9; support for the old name will be dropped in 3.11.\n",
            "  plt.boxplot(df_anual[col], labels=df_anual.index.year)\n"
          ]
        },
        {
          "data": {
            "image/png": "[encoded data removed]",
            "text/plain": [
              "<Figure size 1200x600 with 1 Axes>"
            ]
          },
          "metadata": {},
          "output_type": "display_data"
        }
      ],
      "source": [
        "# Agrupar por año\n",
        "df_anual = df.resample('Y', on='Date').agg({col: list})\n",
        "\n",
        "# Crear boxplot por año\n",
        "plt.figure(figsize=(12,6))\n",
        "plt.boxplot(df_anual[col], labels=df_anual.index.year)\n",
        "plt.title(f\"Distribución anual de {col} ($)\")\n",
        "plt.xlabel(\"Año\")\n",
        "plt.ylabel(col)\n",
        "plt.grid(True)\n",
        "#plt.savefig('graficos_generados/boxplot_anual.png')\n",
        "plt.show()\n"
      ]
    },
    {
      "cell_type": "markdown",
      "id": "bnkMruI-Y8mO",
      "metadata": {
        "id": "bnkMruI-Y8mO"
      },
      "source": [
        "## LIMPIEZA\n"
      ]
    },
    {
      "cell_type": "code",
      "execution_count": 35,
      "id": "ZyxlxfyNZScC",
      "metadata": {
        "colab": {
          "base_uri": "https://localhost:8080/"
        },
        "id": "ZyxlxfyNZScC",
        "outputId": "d9188ac1-a744-43cb-e21e-9514e06c67ed"
      },
      "outputs": [
        {
          "data": {
            "text/plain": [
              "((4989, 11), np.int64(0), np.int64(0))"
            ]
          },
          "execution_count": 35,
          "metadata": {},
          "output_type": "execute_result"
        }
      ],
      "source": [
        "df_cleaned = df.drop_duplicates()\n",
        "\n",
        "df_cleaned = df_cleaned.dropna()\n",
        "\n",
        "df_cleaned.shape, df_cleaned.isna().sum().sum(), df_cleaned.duplicated().sum()"
      ]
    },
    {
      "cell_type": "code",
      "execution_count": 36,
      "id": "JNeLA5lUgobT",
      "metadata": {
        "colab": {
          "base_uri": "https://localhost:8080/"
        },
        "id": "JNeLA5lUgobT",
        "outputId": "27771421-3103-4b68-a507-738a7d163ae5"
      },
      "outputs": [
        {
          "name": "stdout",
          "output_type": "stream",
          "text": [
            " Géneros únicos encontrados:\n",
            "- Action\n",
            "- Adventure\n",
            "- FPS\n",
            "- RPG\n",
            "- Simulation\n"
          ]
        }
      ],
      "source": [
        "# Asegurar que la columna existe y no tiene valores nulos\n",
        "df['Top Genre'] = df['Top Genre'].fillna('Desconocido')\n",
        "\n",
        "# Extraer géneros únicos\n",
        "generos_unicos = df['Top Genre'].unique()\n",
        "\n",
        "# Mostrar ordenados\n",
        "print(\" Géneros únicos encontrados:\")\n",
        "for genero in sorted(generos_unicos):\n",
        "    print(\"-\", genero)\n"
      ]
    },
    {
      "cell_type": "code",
      "execution_count": null,
      "id": "4YCJiVxOI19k",
      "metadata": {
        "id": "4YCJiVxOI19k"
      },
      "outputs": [],
      "source": []
    },
    {
      "cell_type": "code",
      "execution_count": 37,
      "id": "Q9gt7xlxkxMT",
      "metadata": {
        "colab": {
          "base_uri": "https://localhost:8080/",
          "height": 313
        },
        "id": "Q9gt7xlxkxMT",
        "outputId": "6965d713-2750-484e-ca37-e20106899ee8"
      },
      "outputs": [
        {
          "name": "stdout",
          "output_type": "stream",
          "text": [
            "Shape: (4989, 11)\n",
            "Columnas: ['Date', 'Platform', 'Daily Active Users (DAU)', 'New Registrations', 'Session Duration (minutes)', 'In-game Purchases ($)', 'Social Media Mentions', 'Stream Viewership', 'Revenue', 'Top Genre', 'Influencer Endorsements']\n"
          ]
        },
        {
          "data": {
            "text/html": [
              "<div>\n",
              "<style scoped>\n",
              "    .dataframe tbody tr th:only-of-type {\n",
              "        vertical-align: middle;\n",
              "    }\n",
              "\n",
              "    .dataframe tbody tr th {\n",
              "        vertical-align: top;\n",
              "    }\n",
              "\n",
              "    .dataframe thead th {\n",
              "        text-align: right;\n",
              "    }\n",
              "</style>\n",
              "<table border=\"1\" class=\"dataframe\">\n",
              "  <thead>\n",
              "    <tr style=\"text-align: right;\">\n",
              "      <th></th>\n",
              "      <th>Date</th>\n",
              "      <th>Platform</th>\n",
              "      <th>Daily Active Users (DAU)</th>\n",
              "      <th>New Registrations</th>\n",
              "      <th>Session Duration (minutes)</th>\n",
              "      <th>In-game Purchases ($)</th>\n",
              "      <th>Social Media Mentions</th>\n",
              "      <th>Stream Viewership</th>\n",
              "      <th>Revenue</th>\n",
              "      <th>Top Genre</th>\n",
              "      <th>Influencer Endorsements</th>\n",
              "    </tr>\n",
              "  </thead>\n",
              "  <tbody>\n",
              "    <tr>\n",
              "      <th>0</th>\n",
              "      <td>2022-04-13</td>\n",
              "      <td>PC</td>\n",
              "      <td>142204</td>\n",
              "      <td>14220</td>\n",
              "      <td>31.266635</td>\n",
              "      <td>60772.724060</td>\n",
              "      <td>7116</td>\n",
              "      <td>85079.542766</td>\n",
              "      <td>87378.407590</td>\n",
              "      <td>00</td>\n",
              "      <td>0</td>\n",
              "    </tr>\n",
              "    <tr>\n",
              "      <th>1</th>\n",
              "      <td>2021-03-17</td>\n",
              "      <td>PC</td>\n",
              "      <td>132314</td>\n",
              "      <td>13231</td>\n",
              "      <td>23.314436</td>\n",
              "      <td>43499.834450</td>\n",
              "      <td>6582</td>\n",
              "      <td>64188.420576</td>\n",
              "      <td>41132.113751</td>\n",
              "      <td>00</td>\n",
              "      <td>0</td>\n",
              "    </tr>\n",
              "    <tr>\n",
              "      <th>2</th>\n",
              "      <td>2019-03-09</td>\n",
              "      <td>VR</td>\n",
              "      <td>111557</td>\n",
              "      <td>11155</td>\n",
              "      <td>33.859334</td>\n",
              "      <td>52178.791314</td>\n",
              "      <td>5572</td>\n",
              "      <td>34385.665788</td>\n",
              "      <td>71787.342041</td>\n",
              "      <td>01</td>\n",
              "      <td>0</td>\n",
              "    </tr>\n",
              "    <tr>\n",
              "      <th>3</th>\n",
              "      <td>2021-03-31</td>\n",
              "      <td>Console</td>\n",
              "      <td>132909</td>\n",
              "      <td>13290</td>\n",
              "      <td>80.580010</td>\n",
              "      <td>25085.562444</td>\n",
              "      <td>6619</td>\n",
              "      <td>43129.915707</td>\n",
              "      <td>18639.641156</td>\n",
              "      <td>02</td>\n",
              "      <td>0</td>\n",
              "    </tr>\n",
              "    <tr>\n",
              "      <th>4</th>\n",
              "      <td>2021-02-04</td>\n",
              "      <td>Mobile</td>\n",
              "      <td>130694</td>\n",
              "      <td>13069</td>\n",
              "      <td>37.270903</td>\n",
              "      <td>55277.074439</td>\n",
              "      <td>6555</td>\n",
              "      <td>69341.389827</td>\n",
              "      <td>63849.959750</td>\n",
              "      <td>00</td>\n",
              "      <td>0</td>\n",
              "    </tr>\n",
              "  </tbody>\n",
              "</table>\n",
              "</div>"
            ],
            "text/plain": [
              "         Date Platform  Daily Active Users (DAU)  New Registrations  \\\n",
              "0  2022-04-13       PC                    142204              14220   \n",
              "1  2021-03-17       PC                    132314              13231   \n",
              "2  2019-03-09       VR                    111557              11155   \n",
              "3  2021-03-31  Console                    132909              13290   \n",
              "4  2021-02-04   Mobile                    130694              13069   \n",
              "\n",
              "   Session Duration (minutes)  In-game Purchases ($)  Social Media Mentions  \\\n",
              "0                   31.266635           60772.724060                   7116   \n",
              "1                   23.314436           43499.834450                   6582   \n",
              "2                   33.859334           52178.791314                   5572   \n",
              "3                   80.580010           25085.562444                   6619   \n",
              "4                   37.270903           55277.074439                   6555   \n",
              "\n",
              "   Stream Viewership       Revenue Top Genre  Influencer Endorsements  \n",
              "0       85079.542766  87378.407590        00                        0  \n",
              "1       64188.420576  41132.113751        00                        0  \n",
              "2       34385.665788  71787.342041        01                        0  \n",
              "3       43129.915707  18639.641156        02                        0  \n",
              "4       69341.389827  63849.959750        00                        0  "
            ]
          },
          "execution_count": 37,
          "metadata": {},
          "output_type": "execute_result"
        }
      ],
      "source": [
        "csv_path = \"gaming.csv\"\n",
        "assert os.path.exists(csv_path), \"No se encontró el archivo Gaming-Trends-2024.csv en el directorio actual.\"\n",
        "\n",
        "df = pd.read_csv(csv_path)\n",
        "print(\"Shape:\", df.shape)\n",
        "print(\"Columnas:\", list(df.columns))\n",
        "df.head()\n",
        "\n",
        "genre_mapping = {\n",
        "    'Action': '00',\n",
        "    'Simulation': '01',\n",
        "    'RPG': '02',\n",
        "    'FPS': '03',\n",
        "    'Adventure': '04'\n",
        "}\n",
        "\n",
        "df['Top Genre'] = df['Top Genre'].replace(genre_mapping)\n",
        "\n",
        "df.head()"
      ]
    },
    {
      "cell_type": "code",
      "execution_count": 38,
      "id": "3hb-01yFLX9M",
      "metadata": {
        "id": "3hb-01yFLX9M"
      },
      "outputs": [],
      "source": [
        "#Date a tipo datetime\n",
        "#Extraer componentes: año, mes, día, día de la semana, trimestre.\n",
        "\n",
        "df[\"Date\"] = pd.to_datetime(df[\"Date\"])\n",
        "df[\"Year\"] = df[\"Date\"].dt.year\n",
        "df[\"Month\"] = df[\"Date\"].dt.month\n",
        "df[\"Weekday\"] = df[\"Date\"].dt.day_name()\n"
      ]
    },
    {
      "cell_type": "code",
      "execution_count": 39,
      "id": "-DaJi0hELm4D",
      "metadata": {
        "id": "-DaJi0hELm4D"
      },
      "outputs": [
        {
          "ename": "KeyError",
          "evalue": "\"['DAU', 'Revenue ($)'] not in index\"",
          "output_type": "error",
          "traceback": [
            "\u001b[31m---------------------------------------------------------------------------\u001b[39m",
            "\u001b[31mKeyError\u001b[39m                                  Traceback (most recent call last)",
            "\u001b[36mCell\u001b[39m\u001b[36m \u001b[39m\u001b[32mIn[39]\u001b[39m\u001b[32m, line 5\u001b[39m\n\u001b[32m      3\u001b[39m \u001b[38;5;28;01mfrom\u001b[39;00m\u001b[38;5;250m \u001b[39m\u001b[34;01msklearn\u001b[39;00m\u001b[34;01m.\u001b[39;00m\u001b[34;01mpreprocessing\u001b[39;00m\u001b[38;5;250m \u001b[39m\u001b[38;5;28;01mimport\u001b[39;00m MinMaxScaler\n\u001b[32m      4\u001b[39m scaler = MinMaxScaler()\n\u001b[32m----> \u001b[39m\u001b[32m5\u001b[39m df[[\u001b[33m\"\u001b[39m\u001b[33mDAU\u001b[39m\u001b[33m\"\u001b[39m, \u001b[33m\"\u001b[39m\u001b[33mRevenue ($)\u001b[39m\u001b[33m\"\u001b[39m, \u001b[33m\"\u001b[39m\u001b[33mIn-game Purchases ($)\u001b[39m\u001b[33m\"\u001b[39m]] = scaler.fit_transform(\u001b[43mdf\u001b[49m\u001b[43m[\u001b[49m\u001b[43m[\u001b[49m\u001b[33;43m\"\u001b[39;49m\u001b[33;43mDAU\u001b[39;49m\u001b[33;43m\"\u001b[39;49m\u001b[43m,\u001b[49m\u001b[43m \u001b[49m\u001b[33;43m\"\u001b[39;49m\u001b[33;43mRevenue ($)\u001b[39;49m\u001b[33;43m\"\u001b[39;49m\u001b[43m,\u001b[49m\u001b[43m \u001b[49m\u001b[33;43m\"\u001b[39;49m\u001b[33;43mIn-game Purchases ($)\u001b[39;49m\u001b[33;43m\"\u001b[39;49m\u001b[43m]\u001b[49m\u001b[43m]\u001b[49m)\n",
            "\u001b[36mFile \u001b[39m\u001b[32mc:\\Users\\hlope\\OneDrive - Fundacion Instituto Profesional Duoc UC\\Sexto Semestre\\MACHINE LEARNING\\machineVenv\\Lib\\site-packages\\pandas\\core\\frame.py:4113\u001b[39m, in \u001b[36mDataFrame.__getitem__\u001b[39m\u001b[34m(self, key)\u001b[39m\n\u001b[32m   4111\u001b[39m     \u001b[38;5;28;01mif\u001b[39;00m is_iterator(key):\n\u001b[32m   4112\u001b[39m         key = \u001b[38;5;28mlist\u001b[39m(key)\n\u001b[32m-> \u001b[39m\u001b[32m4113\u001b[39m     indexer = \u001b[38;5;28;43mself\u001b[39;49m\u001b[43m.\u001b[49m\u001b[43mcolumns\u001b[49m\u001b[43m.\u001b[49m\u001b[43m_get_indexer_strict\u001b[49m\u001b[43m(\u001b[49m\u001b[43mkey\u001b[49m\u001b[43m,\u001b[49m\u001b[43m \u001b[49m\u001b[33;43m\"\u001b[39;49m\u001b[33;43mcolumns\u001b[39;49m\u001b[33;43m\"\u001b[39;49m\u001b[43m)\u001b[49m[\u001b[32m1\u001b[39m]\n\u001b[32m   4115\u001b[39m \u001b[38;5;66;03m# take() does not accept boolean indexers\u001b[39;00m\n\u001b[32m   4116\u001b[39m \u001b[38;5;28;01mif\u001b[39;00m \u001b[38;5;28mgetattr\u001b[39m(indexer, \u001b[33m\"\u001b[39m\u001b[33mdtype\u001b[39m\u001b[33m\"\u001b[39m, \u001b[38;5;28;01mNone\u001b[39;00m) == \u001b[38;5;28mbool\u001b[39m:\n",
            "\u001b[36mFile \u001b[39m\u001b[32mc:\\Users\\hlope\\OneDrive - Fundacion Instituto Profesional Duoc UC\\Sexto Semestre\\MACHINE LEARNING\\machineVenv\\Lib\\site-packages\\pandas\\core\\indexes\\base.py:6212\u001b[39m, in \u001b[36mIndex._get_indexer_strict\u001b[39m\u001b[34m(self, key, axis_name)\u001b[39m\n\u001b[32m   6209\u001b[39m \u001b[38;5;28;01melse\u001b[39;00m:\n\u001b[32m   6210\u001b[39m     keyarr, indexer, new_indexer = \u001b[38;5;28mself\u001b[39m._reindex_non_unique(keyarr)\n\u001b[32m-> \u001b[39m\u001b[32m6212\u001b[39m \u001b[38;5;28;43mself\u001b[39;49m\u001b[43m.\u001b[49m\u001b[43m_raise_if_missing\u001b[49m\u001b[43m(\u001b[49m\u001b[43mkeyarr\u001b[49m\u001b[43m,\u001b[49m\u001b[43m \u001b[49m\u001b[43mindexer\u001b[49m\u001b[43m,\u001b[49m\u001b[43m \u001b[49m\u001b[43maxis_name\u001b[49m\u001b[43m)\u001b[49m\n\u001b[32m   6214\u001b[39m keyarr = \u001b[38;5;28mself\u001b[39m.take(indexer)\n\u001b[32m   6215\u001b[39m \u001b[38;5;28;01mif\u001b[39;00m \u001b[38;5;28misinstance\u001b[39m(key, Index):\n\u001b[32m   6216\u001b[39m     \u001b[38;5;66;03m# GH 42790 - Preserve name from an Index\u001b[39;00m\n",
            "\u001b[36mFile \u001b[39m\u001b[32mc:\\Users\\hlope\\OneDrive - Fundacion Instituto Profesional Duoc UC\\Sexto Semestre\\MACHINE LEARNING\\machineVenv\\Lib\\site-packages\\pandas\\core\\indexes\\base.py:6264\u001b[39m, in \u001b[36mIndex._raise_if_missing\u001b[39m\u001b[34m(self, key, indexer, axis_name)\u001b[39m\n\u001b[32m   6261\u001b[39m     \u001b[38;5;28;01mraise\u001b[39;00m \u001b[38;5;167;01mKeyError\u001b[39;00m(\u001b[33mf\u001b[39m\u001b[33m\"\u001b[39m\u001b[33mNone of [\u001b[39m\u001b[38;5;132;01m{\u001b[39;00mkey\u001b[38;5;132;01m}\u001b[39;00m\u001b[33m] are in the [\u001b[39m\u001b[38;5;132;01m{\u001b[39;00maxis_name\u001b[38;5;132;01m}\u001b[39;00m\u001b[33m]\u001b[39m\u001b[33m\"\u001b[39m)\n\u001b[32m   6263\u001b[39m not_found = \u001b[38;5;28mlist\u001b[39m(ensure_index(key)[missing_mask.nonzero()[\u001b[32m0\u001b[39m]].unique())\n\u001b[32m-> \u001b[39m\u001b[32m6264\u001b[39m \u001b[38;5;28;01mraise\u001b[39;00m \u001b[38;5;167;01mKeyError\u001b[39;00m(\u001b[33mf\u001b[39m\u001b[33m\"\u001b[39m\u001b[38;5;132;01m{\u001b[39;00mnot_found\u001b[38;5;132;01m}\u001b[39;00m\u001b[33m not in index\u001b[39m\u001b[33m\"\u001b[39m)\n",
            "\u001b[31mKeyError\u001b[39m: \"['DAU', 'Revenue ($)'] not in index\""
          ]
        }
      ],
      "source": [
        "#Normalización y escalado\n",
        "\n",
        "from sklearn.preprocessing import MinMaxScaler\n",
        "scaler = MinMaxScaler()\n",
        "df[[\"DAU\", \"Revenue ($)\", \"In-game Purchases ($)\"]] = scaler.fit_transform(df[[\"DAU\", \"Revenue ($)\", \"In-game Purchases ($)\"]])\n"
      ]
    },
    {
      "cell_type": "code",
      "execution_count": null,
      "id": "Qj9iIIQELrx9",
      "metadata": {
        "id": "Qj9iIIQELrx9"
      },
      "outputs": [],
      "source": [
        "#Ratio de compras por usuario\n",
        "df[\"Purchases_per_user\"] = df[\"In-game Purchases ($)\"] / df[\"DAU\"]\n",
        "\n",
        "#Ratio de compras por usuario:\n",
        "df[\"Purchases_per_user\"] = df[\"In-game Purchases ($)\"] / df[\"DAU\"]\n",
        "\n",
        "#Engagement estimado: duración × usuarios activos\n",
        "df[\"Engagement\"] = df[\"Session Duration (minutes)\"] * df[\"DAU\"]\n",
        "\n",
        "#Influencia social: menciones + endorsements\n",
        "df[\"Social_Impact\"] = df[\"Social Media Mentions\"] + df[\"Influencer Endorsements\"]\n",
        "\n",
        "\n"
      ]
    }
  ],
  "metadata": {
    "colab": {
      "provenance": []
    },
    "kernelspec": {
      "display_name": "machineVenv",
      "language": "python",
      "name": "python3"
    },
    "language_info": {
      "codemirror_mode": {
        "name": "ipython",
        "version": 3
      },
      "file_extension": ".py",
      "mimetype": "text/x-python",
      "name": "python",
      "nbconvert_exporter": "python",
      "pygments_lexer": "ipython3",
      "version": "3.13.6"
    }
  },
  "nbformat": 4,
  "nbformat_minor": 5
}
